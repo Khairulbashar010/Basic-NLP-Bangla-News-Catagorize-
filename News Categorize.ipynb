{
 "cells": [
  {
   "cell_type": "code",
   "execution_count": 1,
   "metadata": {},
   "outputs": [],
   "source": [
    "import pandas as pd\n",
    "import numpy as np"
   ]
  },
  {
   "cell_type": "code",
   "execution_count": 2,
   "metadata": {},
   "outputs": [],
   "source": [
    "news = pd.read_csv(\"dataF.csv\",encoding='utf-8',index_col=0)"
   ]
  },
  {
   "cell_type": "code",
   "execution_count": 3,
   "metadata": {
    "scrolled": true
   },
   "outputs": [
    {
     "name": "stdout",
     "output_type": "stream",
     "text": [
      "                                                    data           flag\n",
      "13645  বাংলা খেয়ালের প্রসার প্রচার লক্ষ্য রাতব্যাপী ...  entertainment\n",
      "12217  সন্ত্রাস নাশকতা নৈরাজ্য প্রতিবাদ ডাকা সমাবেশ য...          crime\n",
      "19392  পুঁজি অভাব নাটোরের লালপুর উপজেলা ধানাইদহপাড়া...      economics\n",
      "30556  নোয়াখালীতে সার্কভুক্ত দেশ যুব প্রতিনিধি হয়েছ...    environment\n",
      "21233  ঢাকা জুন ০৫ বিডিনিউজ টোয়েন্টিফোর ডটকম প্রয়াত র...    environment\n",
      "24081  জাতীয় সংসদ সম্প্রতি পাস হওয়া সংবিধান ষোড়শ সংশ...        opinion\n",
      "3232   আঙ্কারা নভেম্বও ৩০ বিডিনিউজ টুয়েন্টিফোর ডটকম/র...       accident\n",
      "22820  ঢাকা নভেম্বর ১৩ বিডিনিউজ টোয়েন্টিফোর ডটকম বিডি...   science_tech\n",
      "6774   মঙ্গলবার গাজীপুর মীরেরবাজারে ঘোড়াশাল টঙ্গী সড়ক...       accident\n",
      "14442  ভারত মেঘালয় রাজ্য কয়লা উত্তোলন প্রক্রিয়া জটিল...      economics\n"
     ]
    },
    {
     "data": {
      "text/plain": [
       "(31912, 2)"
      ]
     },
     "execution_count": 3,
     "metadata": {},
     "output_type": "execute_result"
    }
   ],
   "source": [
    "news = news.sample(frac=1)\n",
    "print(news.head(10))\n",
    "news.shape"
   ]
  },
  {
   "cell_type": "code",
   "execution_count": 4,
   "metadata": {},
   "outputs": [
    {
     "name": "stdout",
     "output_type": "stream",
     "text": [
      "politics             --- 2660 samples\n",
      "art                  --- 2659 samples\n",
      "education            --- 2659 samples\n",
      "opinion              --- 2660 samples\n",
      "entertainment        --- 2659 samples\n",
      "crime                --- 2659 samples\n",
      "science_tech         --- 2660 samples\n",
      "environment          --- 2659 samples\n",
      "international        --- 2659 samples\n",
      "sports               --- 2660 samples\n",
      "accident             --- 2659 samples\n",
      "economics            --- 2659 samples\n"
     ]
    }
   ],
   "source": [
    "labels = list(set(news.flag))\n",
    "\n",
    "for label in labels:\n",
    "    print( \"{:20} --- {} samples\".format( label, news[ news.flag == label ].shape[0]  ))"
   ]
  },
  {
   "cell_type": "code",
   "execution_count": 5,
   "metadata": {},
   "outputs": [
    {
     "data": {
      "text/html": [
       "<div>\n",
       "<style scoped>\n",
       "    .dataframe tbody tr th:only-of-type {\n",
       "        vertical-align: middle;\n",
       "    }\n",
       "\n",
       "    .dataframe tbody tr th {\n",
       "        vertical-align: top;\n",
       "    }\n",
       "\n",
       "    .dataframe thead th {\n",
       "        text-align: right;\n",
       "    }\n",
       "</style>\n",
       "<table border=\"1\" class=\"dataframe\">\n",
       "  <thead>\n",
       "    <tr style=\"text-align: right;\">\n",
       "      <th></th>\n",
       "      <th>data</th>\n",
       "      <th>flag</th>\n",
       "      <th>label</th>\n",
       "    </tr>\n",
       "  </thead>\n",
       "  <tbody>\n",
       "    <tr>\n",
       "      <td>13645</td>\n",
       "      <td>বাংলা খেয়ালের প্রসার প্রচার লক্ষ্য রাতব্যাপী ...</td>\n",
       "      <td>entertainment</td>\n",
       "      <td>5</td>\n",
       "    </tr>\n",
       "    <tr>\n",
       "      <td>12217</td>\n",
       "      <td>সন্ত্রাস নাশকতা নৈরাজ্য প্রতিবাদ ডাকা সমাবেশ য...</td>\n",
       "      <td>crime</td>\n",
       "      <td>2</td>\n",
       "    </tr>\n",
       "    <tr>\n",
       "      <td>19392</td>\n",
       "      <td>পুঁজি অভাব নাটোরের লালপুর উপজেলা ধানাইদহপাড়া...</td>\n",
       "      <td>economics</td>\n",
       "      <td>3</td>\n",
       "    </tr>\n",
       "    <tr>\n",
       "      <td>30556</td>\n",
       "      <td>নোয়াখালীতে সার্কভুক্ত দেশ যুব প্রতিনিধি হয়েছ...</td>\n",
       "      <td>environment</td>\n",
       "      <td>6</td>\n",
       "    </tr>\n",
       "    <tr>\n",
       "      <td>21233</td>\n",
       "      <td>ঢাকা জুন ০৫ বিডিনিউজ টোয়েন্টিফোর ডটকম প্রয়াত র...</td>\n",
       "      <td>environment</td>\n",
       "      <td>6</td>\n",
       "    </tr>\n",
       "    <tr>\n",
       "      <td>24081</td>\n",
       "      <td>জাতীয় সংসদ সম্প্রতি পাস হওয়া সংবিধান ষোড়শ সংশ...</td>\n",
       "      <td>opinion</td>\n",
       "      <td>8</td>\n",
       "    </tr>\n",
       "    <tr>\n",
       "      <td>3232</td>\n",
       "      <td>আঙ্কারা নভেম্বও ৩০ বিডিনিউজ টুয়েন্টিফোর ডটকম/র...</td>\n",
       "      <td>accident</td>\n",
       "      <td>0</td>\n",
       "    </tr>\n",
       "    <tr>\n",
       "      <td>22820</td>\n",
       "      <td>ঢাকা নভেম্বর ১৩ বিডিনিউজ টোয়েন্টিফোর ডটকম বিডি...</td>\n",
       "      <td>science_tech</td>\n",
       "      <td>10</td>\n",
       "    </tr>\n",
       "    <tr>\n",
       "      <td>6774</td>\n",
       "      <td>মঙ্গলবার গাজীপুর মীরেরবাজারে ঘোড়াশাল টঙ্গী সড়ক...</td>\n",
       "      <td>accident</td>\n",
       "      <td>0</td>\n",
       "    </tr>\n",
       "    <tr>\n",
       "      <td>14442</td>\n",
       "      <td>ভারত মেঘালয় রাজ্য কয়লা উত্তোলন প্রক্রিয়া জটিল...</td>\n",
       "      <td>economics</td>\n",
       "      <td>3</td>\n",
       "    </tr>\n",
       "  </tbody>\n",
       "</table>\n",
       "</div>"
      ],
      "text/plain": [
       "                                                    data           flag  label\n",
       "13645  বাংলা খেয়ালের প্রসার প্রচার লক্ষ্য রাতব্যাপী ...  entertainment      5\n",
       "12217  সন্ত্রাস নাশকতা নৈরাজ্য প্রতিবাদ ডাকা সমাবেশ য...          crime      2\n",
       "19392  পুঁজি অভাব নাটোরের লালপুর উপজেলা ধানাইদহপাড়া...      economics      3\n",
       "30556  নোয়াখালীতে সার্কভুক্ত দেশ যুব প্রতিনিধি হয়েছ...    environment      6\n",
       "21233  ঢাকা জুন ০৫ বিডিনিউজ টোয়েন্টিফোর ডটকম প্রয়াত র...    environment      6\n",
       "24081  জাতীয় সংসদ সম্প্রতি পাস হওয়া সংবিধান ষোড়শ সংশ...        opinion      8\n",
       "3232   আঙ্কারা নভেম্বও ৩০ বিডিনিউজ টুয়েন্টিফোর ডটকম/র...       accident      0\n",
       "22820  ঢাকা নভেম্বর ১৩ বিডিনিউজ টোয়েন্টিফোর ডটকম বিডি...   science_tech     10\n",
       "6774   মঙ্গলবার গাজীপুর মীরেরবাজারে ঘোড়াশাল টঙ্গী সড়ক...       accident      0\n",
       "14442  ভারত মেঘালয় রাজ্য কয়লা উত্তোলন প্রক্রিয়া জটিল...      economics      3"
      ]
     },
     "execution_count": 5,
     "metadata": {},
     "output_type": "execute_result"
    }
   ],
   "source": [
    "from sklearn.preprocessing import LabelEncoder\n",
    "encoder = LabelEncoder()\n",
    "ncategories = encoder.fit_transform(news['flag'])\n",
    "news['label'] = np.array(ncategories)\n",
    "news.head(10)"
   ]
  },
  {
   "cell_type": "code",
   "execution_count": 6,
   "metadata": {},
   "outputs": [
    {
     "data": {
      "text/plain": [
       "(31912, 3)"
      ]
     },
     "execution_count": 6,
     "metadata": {},
     "output_type": "execute_result"
    }
   ],
   "source": [
    "news.shape"
   ]
  },
  {
   "cell_type": "code",
   "execution_count": 7,
   "metadata": {},
   "outputs": [],
   "source": [
    "from sklearn.model_selection import train_test_split\n",
    "X_train, X_test, y_train, y_test = train_test_split(news[\"data\"], news[\"flag\"],test_size=0.2, random_state=42)"
   ]
  },
  {
   "cell_type": "code",
   "execution_count": 8,
   "metadata": {},
   "outputs": [
    {
     "data": {
      "text/plain": [
       "27596    বিশিষ্ট নাগরিক উদ্যোগে জাতীয় সংলাপ উদ্যোগকে ...\n",
       "30754    রংপুর বেগম রোকেয়া বিশ্ববিদ্যালয় সন্ত্রাসী হাম...\n",
       "5129     বগুড়ার আমতলী উপজেলায় শুক্রবার রাত ট্রলি মোটর...\n",
       "Name: data, dtype: object"
      ]
     },
     "execution_count": 8,
     "metadata": {},
     "output_type": "execute_result"
    }
   ],
   "source": [
    "X_train.head(3)"
   ]
  },
  {
   "cell_type": "markdown",
   "metadata": {},
   "source": [
    "# CountVectorizer"
   ]
  },
  {
   "cell_type": "code",
   "execution_count": 9,
   "metadata": {},
   "outputs": [],
   "source": [
    "from sklearn.feature_extraction.text import CountVectorizer\n",
    "vect = CountVectorizer()\n",
    "X_train_vectorized = vect.fit_transform(X_train.values.astype('unicode'))"
   ]
  },
  {
   "cell_type": "code",
   "execution_count": null,
   "metadata": {},
   "outputs": [],
   "source": []
  },
  {
   "cell_type": "markdown",
   "metadata": {},
   "source": [
    "# TF-IDF Vectorizer"
   ]
  },
  {
   "cell_type": "code",
   "execution_count": 10,
   "metadata": {},
   "outputs": [],
   "source": [
    "from sklearn.feature_extraction.text import TfidfVectorizer\n",
    "vector = TfidfVectorizer()\n",
    "X_train_vect = vector.fit_transform(X_train.values.astype('unicode'))\n"
   ]
  },
  {
   "cell_type": "markdown",
   "metadata": {},
   "source": [
    "# CV-SVM"
   ]
  },
  {
   "cell_type": "code",
   "execution_count": 11,
   "metadata": {},
   "outputs": [
    {
     "data": {
      "text/plain": [
       "SVC(C=1.0, cache_size=200, class_weight=None, coef0=0.0,\n",
       "    decision_function_shape='ovr', degree=3, gamma='auto', kernel='poly',\n",
       "    max_iter=-1, probability=False, random_state=None, shrinking=True,\n",
       "    tol=0.001, verbose=False)"
      ]
     },
     "execution_count": 11,
     "metadata": {},
     "output_type": "execute_result"
    }
   ],
   "source": [
    "from sklearn.svm import SVC\n",
    "svm = SVC(kernel='poly', gamma='auto')\n",
    "svm.fit(X_train_vectorized, y_train)"
   ]
  },
  {
   "cell_type": "code",
   "execution_count": null,
   "metadata": {},
   "outputs": [],
   "source": [
    "y_testCV = svm.predict(vect.transform(y_test.values.astype('unicode')))\n",
    "y_predCV = svm.predict(vect.transform(X_test.values.astype('unicode')))"
   ]
  },
  {
   "cell_type": "code",
   "execution_count": null,
   "metadata": {},
   "outputs": [],
   "source": []
  },
  {
   "cell_type": "markdown",
   "metadata": {},
   "source": [
    "# TFIDF-SVM"
   ]
  },
  {
   "cell_type": "code",
   "execution_count": 124,
   "metadata": {},
   "outputs": [
    {
     "data": {
      "text/plain": [
       "SVC(C=1.0, cache_size=200, class_weight=None, coef0=0.0,\n",
       "  decision_function_shape='ovr', degree=3, gamma='auto', kernel='poly',\n",
       "  max_iter=-1, probability=False, random_state=None, shrinking=True,\n",
       "  tol=0.001, verbose=False)"
      ]
     },
     "execution_count": 124,
     "metadata": {},
     "output_type": "execute_result"
    }
   ],
   "source": [
    "svm.fit(X_train_vect, y_train)"
   ]
  },
  {
   "cell_type": "code",
   "execution_count": null,
   "metadata": {},
   "outputs": [],
   "source": []
  },
  {
   "cell_type": "code",
   "execution_count": 125,
   "metadata": {},
   "outputs": [],
   "source": [
    "y_testTF = svm.predict(vector.transform(y_test.values.astype('unicode')))\n",
    "y_predTF = svm.predict(vector.transform(X_test.values.astype('unicode')))"
   ]
  },
  {
   "cell_type": "code",
   "execution_count": null,
   "metadata": {},
   "outputs": [],
   "source": []
  },
  {
   "cell_type": "markdown",
   "metadata": {},
   "source": [
    "# Accuracy of CV-SVM"
   ]
  },
  {
   "cell_type": "code",
   "execution_count": null,
   "metadata": {},
   "outputs": [],
   "source": []
  },
  {
   "cell_type": "code",
   "execution_count": 120,
   "metadata": {},
   "outputs": [
    {
     "data": {
      "text/plain": [
       "99.51433495221681"
      ]
     },
     "execution_count": 120,
     "metadata": {},
     "output_type": "execute_result"
    }
   ],
   "source": [
    "from sklearn.metrics import accuracy_score\n",
    "accuracy_score(y_testCV, y_predCV)*100"
   ]
  },
  {
   "cell_type": "code",
   "execution_count": null,
   "metadata": {},
   "outputs": [],
   "source": []
  },
  {
   "cell_type": "code",
   "execution_count": 121,
   "metadata": {},
   "outputs": [
    {
     "name": "stdout",
     "output_type": "stream",
     "text": [
      "[  0. 100.   0.]\n"
     ]
    }
   ],
   "source": [
    "from sklearn.metrics import precision_score\n",
    "print(precision_score(y_testCV, y_predCV, average=None)*100)"
   ]
  },
  {
   "cell_type": "code",
   "execution_count": null,
   "metadata": {},
   "outputs": [],
   "source": []
  },
  {
   "cell_type": "code",
   "execution_count": 122,
   "metadata": {},
   "outputs": [
    {
     "name": "stdout",
     "output_type": "stream",
     "text": [
      "              precision    recall  f1-score   support\n",
      "\n",
      "         art       0.00      0.00      0.00         0\n",
      "   education       1.00      1.00      1.00      6383\n",
      "     opinion       0.00      0.00      0.00         0\n",
      "\n",
      "   micro avg       1.00      1.00      1.00      6383\n",
      "   macro avg       0.33      0.33      0.33      6383\n",
      "weighted avg       1.00      1.00      1.00      6383\n",
      "\n"
     ]
    }
   ],
   "source": [
    "from sklearn.metrics import classification_report\n",
    "print(classification_report(y_testCV, y_predCV))"
   ]
  },
  {
   "cell_type": "code",
   "execution_count": null,
   "metadata": {},
   "outputs": [],
   "source": []
  },
  {
   "cell_type": "code",
   "execution_count": 123,
   "metadata": {},
   "outputs": [
    {
     "name": "stdout",
     "output_type": "stream",
     "text": [
      "[ 0.         99.75657636  0.        ]\n"
     ]
    }
   ],
   "source": [
    "from sklearn.metrics import f1_score\n",
    "print(f1_score(y_testCV, y_predCV, average=None)*100)"
   ]
  },
  {
   "cell_type": "markdown",
   "metadata": {},
   "source": []
  },
  {
   "cell_type": "markdown",
   "metadata": {},
   "source": [
    "# Accuracy of TFIDF-SVM"
   ]
  },
  {
   "cell_type": "raw",
   "metadata": {},
   "source": []
  },
  {
   "cell_type": "code",
   "execution_count": 126,
   "metadata": {},
   "outputs": [
    {
     "data": {
      "text/plain": [
       "100.0"
      ]
     },
     "execution_count": 126,
     "metadata": {},
     "output_type": "execute_result"
    }
   ],
   "source": [
    "\n",
    "accuracy_score(y_testTF, y_predTF)*100"
   ]
  },
  {
   "cell_type": "code",
   "execution_count": null,
   "metadata": {},
   "outputs": [],
   "source": []
  },
  {
   "cell_type": "code",
   "execution_count": 127,
   "metadata": {},
   "outputs": [
    {
     "name": "stdout",
     "output_type": "stream",
     "text": [
      "[100.]\n"
     ]
    }
   ],
   "source": [
    "\n",
    "print(precision_score(y_testTF, y_predTF, average=None)*100)"
   ]
  },
  {
   "cell_type": "code",
   "execution_count": null,
   "metadata": {},
   "outputs": [],
   "source": []
  },
  {
   "cell_type": "code",
   "execution_count": 128,
   "metadata": {},
   "outputs": [
    {
     "name": "stdout",
     "output_type": "stream",
     "text": [
      "              precision    recall  f1-score   support\n",
      "\n",
      "         art       1.00      1.00      1.00      6383\n",
      "\n",
      "   micro avg       1.00      1.00      1.00      6383\n",
      "   macro avg       1.00      1.00      1.00      6383\n",
      "weighted avg       1.00      1.00      1.00      6383\n",
      "\n"
     ]
    }
   ],
   "source": [
    "\n",
    "print(classification_report(y_testTF, y_predTF))"
   ]
  },
  {
   "cell_type": "code",
   "execution_count": null,
   "metadata": {},
   "outputs": [],
   "source": []
  },
  {
   "cell_type": "code",
   "execution_count": 129,
   "metadata": {},
   "outputs": [
    {
     "name": "stdout",
     "output_type": "stream",
     "text": [
      "[100.]\n"
     ]
    }
   ],
   "source": [
    "\n",
    "print(f1_score(y_testTF, y_predTF, average=None)*100)"
   ]
  },
  {
   "cell_type": "code",
   "execution_count": null,
   "metadata": {},
   "outputs": [],
   "source": []
  },
  {
   "cell_type": "markdown",
   "metadata": {},
   "source": [
    "# CV-DecisionTree"
   ]
  },
  {
   "cell_type": "code",
   "execution_count": 142,
   "metadata": {},
   "outputs": [
    {
     "data": {
      "text/plain": [
       "DecisionTreeClassifier(class_weight=None, criterion='gini', max_depth=2,\n",
       "            max_features=None, max_leaf_nodes=None,\n",
       "            min_impurity_decrease=0.0, min_impurity_split=None,\n",
       "            min_samples_leaf=7, min_samples_split=2,\n",
       "            min_weight_fraction_leaf=0.0, presort=False, random_state=5,\n",
       "            splitter='best')"
      ]
     },
     "execution_count": 142,
     "metadata": {},
     "output_type": "execute_result"
    }
   ],
   "source": [
    "from sklearn.tree import DecisionTreeClassifier\n",
    "from sklearn import tree\n",
    "\n",
    "clf_entropy = DecisionTreeClassifier(criterion = \"entropy\", random_state = 5,\n",
    " max_depth=2, min_samples_leaf=7)\n",
    "clf_entropy.fit(X_train_vectorized, y_train)\n",
    "\n",
    "##### Another model\n",
    "clf_gini = DecisionTreeClassifier(criterion = \"gini\", random_state = 5,\n",
    "                               max_depth=2, min_samples_leaf=7)\n",
    "clf_gini.fit(X_train_vectorized, y_train)"
   ]
  },
  {
   "cell_type": "code",
   "execution_count": 143,
   "metadata": {},
   "outputs": [],
   "source": [
    "y_testDTE = clf_entropy.predict(vect.transform(y_test.values.astype('unicode')))\n",
    "y_predDTE = clf_entropy.predict(vect.transform(X_test.values.astype('unicode')))"
   ]
  },
  {
   "cell_type": "code",
   "execution_count": 144,
   "metadata": {},
   "outputs": [],
   "source": [
    "y_testDTG = clf_gini.predict(vect.transform(y_test.values.astype('unicode')))\n",
    "y_predDTG = clf_gini.predict(vect.transform(X_test.values.astype('unicode')))"
   ]
  },
  {
   "cell_type": "code",
   "execution_count": null,
   "metadata": {},
   "outputs": [],
   "source": []
  },
  {
   "cell_type": "markdown",
   "metadata": {},
   "source": [
    "# TFIDF-DecisionTree"
   ]
  },
  {
   "cell_type": "code",
   "execution_count": null,
   "metadata": {},
   "outputs": [],
   "source": []
  },
  {
   "cell_type": "code",
   "execution_count": 145,
   "metadata": {},
   "outputs": [
    {
     "data": {
      "text/plain": [
       "DecisionTreeClassifier(class_weight=None, criterion='gini', max_depth=2,\n",
       "            max_features=None, max_leaf_nodes=None,\n",
       "            min_impurity_decrease=0.0, min_impurity_split=None,\n",
       "            min_samples_leaf=7, min_samples_split=2,\n",
       "            min_weight_fraction_leaf=0.0, presort=False, random_state=5,\n",
       "            splitter='best')"
      ]
     },
     "execution_count": 145,
     "metadata": {},
     "output_type": "execute_result"
    }
   ],
   "source": [
    "clf_entropy.fit(X_train_vect, y_train)\n",
    "\n",
    "clf_gini.fit(X_train_vect, y_train)"
   ]
  },
  {
   "cell_type": "code",
   "execution_count": null,
   "metadata": {},
   "outputs": [],
   "source": []
  },
  {
   "cell_type": "code",
   "execution_count": 146,
   "metadata": {},
   "outputs": [],
   "source": [
    "y_testDTE_TF = clf_entropy.predict(vector.transform(y_test.values.astype('unicode')))\n",
    "y_predDTE_TF = clf_entropy.predict(vector.transform(X_test.values.astype('unicode')))"
   ]
  },
  {
   "cell_type": "code",
   "execution_count": null,
   "metadata": {},
   "outputs": [],
   "source": []
  },
  {
   "cell_type": "code",
   "execution_count": 147,
   "metadata": {},
   "outputs": [],
   "source": [
    "y_testDTG_TF = clf_gini.predict(vector.transform(y_test.values.astype('unicode')))\n",
    "y_predDTG_TF = clf_gini.predict(vector.transform(X_test.values.astype('unicode')))"
   ]
  },
  {
   "cell_type": "markdown",
   "metadata": {},
   "source": [
    "# Accuracy of CV-DecisionTree"
   ]
  },
  {
   "cell_type": "code",
   "execution_count": null,
   "metadata": {},
   "outputs": [],
   "source": []
  },
  {
   "cell_type": "code",
   "execution_count": 149,
   "metadata": {},
   "outputs": [
    {
     "data": {
      "text/plain": [
       "66.56744477518409"
      ]
     },
     "execution_count": 149,
     "metadata": {},
     "output_type": "execute_result"
    }
   ],
   "source": [
    "\n",
    "accuracy_score(y_testDTE, y_predDTE)*100"
   ]
  },
  {
   "cell_type": "code",
   "execution_count": 150,
   "metadata": {},
   "outputs": [
    {
     "data": {
      "text/plain": [
       "66.56744477518409"
      ]
     },
     "execution_count": 150,
     "metadata": {},
     "output_type": "execute_result"
    }
   ],
   "source": [
    "\n",
    "accuracy_score(y_testDTG, y_predDTG)*100"
   ]
  },
  {
   "cell_type": "code",
   "execution_count": null,
   "metadata": {},
   "outputs": [],
   "source": []
  },
  {
   "cell_type": "code",
   "execution_count": 151,
   "metadata": {},
   "outputs": [
    {
     "name": "stdout",
     "output_type": "stream",
     "text": [
      "[  0. 100.   0.]\n"
     ]
    }
   ],
   "source": [
    "\n",
    "print(precision_score(y_testDTE, y_predDTE, average=None)*100)"
   ]
  },
  {
   "cell_type": "code",
   "execution_count": 152,
   "metadata": {},
   "outputs": [
    {
     "name": "stdout",
     "output_type": "stream",
     "text": [
      "[  0. 100.   0.   0.]\n"
     ]
    }
   ],
   "source": [
    "\n",
    "print(precision_score(y_testDTG, y_predDTG, average=None)*100)"
   ]
  },
  {
   "cell_type": "code",
   "execution_count": null,
   "metadata": {},
   "outputs": [],
   "source": []
  },
  {
   "cell_type": "code",
   "execution_count": 172,
   "metadata": {},
   "outputs": [
    {
     "name": "stdout",
     "output_type": "stream",
     "text": [
      "              precision    recall  f1-score   support\n",
      "\n",
      "    accident       0.00      0.00      0.00         0\n",
      "   education       1.00      0.67      0.80      6383\n",
      "    politics       0.00      0.00      0.00         0\n",
      "\n",
      "   micro avg       0.67      0.67      0.67      6383\n",
      "   macro avg       0.33      0.22      0.27      6383\n",
      "weighted avg       1.00      0.67      0.80      6383\n",
      "\n"
     ]
    }
   ],
   "source": [
    "\n",
    "print(classification_report(y_testDTE, y_predDTE))"
   ]
  },
  {
   "cell_type": "code",
   "execution_count": 173,
   "metadata": {},
   "outputs": [
    {
     "name": "stdout",
     "output_type": "stream",
     "text": [
      "              precision    recall  f1-score   support\n",
      "\n",
      "    accident       0.00      0.00      0.00         0\n",
      "   education       1.00      0.67      0.80      6383\n",
      " environment       0.00      0.00      0.00         0\n",
      "    politics       0.00      0.00      0.00         0\n",
      "\n",
      "   micro avg       0.67      0.67      0.67      6383\n",
      "   macro avg       0.25      0.17      0.20      6383\n",
      "weighted avg       1.00      0.67      0.80      6383\n",
      "\n"
     ]
    }
   ],
   "source": [
    "\n",
    "print(classification_report(y_testDTG, y_predDTG))"
   ]
  },
  {
   "cell_type": "code",
   "execution_count": null,
   "metadata": {},
   "outputs": [],
   "source": []
  },
  {
   "cell_type": "code",
   "execution_count": 175,
   "metadata": {},
   "outputs": [
    {
     "name": "stdout",
     "output_type": "stream",
     "text": [
      "[ 0.         79.92851768  0.        ]\n"
     ]
    }
   ],
   "source": [
    "\n",
    "print(f1_score(y_testDTE, y_predDTE, average=None)*100)"
   ]
  },
  {
   "cell_type": "code",
   "execution_count": 176,
   "metadata": {},
   "outputs": [
    {
     "name": "stdout",
     "output_type": "stream",
     "text": [
      "[ 0.         79.92851768  0.          0.        ]\n"
     ]
    }
   ],
   "source": [
    "\n",
    "print(f1_score(y_testDTG, y_predDTG, average=None)*100)"
   ]
  },
  {
   "cell_type": "code",
   "execution_count": null,
   "metadata": {},
   "outputs": [],
   "source": []
  },
  {
   "cell_type": "markdown",
   "metadata": {},
   "source": [
    "# Accuracy of TFIDF-DecisionTree"
   ]
  },
  {
   "cell_type": "code",
   "execution_count": null,
   "metadata": {},
   "outputs": [],
   "source": []
  },
  {
   "cell_type": "code",
   "execution_count": 177,
   "metadata": {},
   "outputs": [
    {
     "data": {
      "text/plain": [
       "72.55209149302836"
      ]
     },
     "execution_count": 177,
     "metadata": {},
     "output_type": "execute_result"
    }
   ],
   "source": [
    "\n",
    "accuracy_score(y_testDTE_TF, y_predDTE_TF)*100"
   ]
  },
  {
   "cell_type": "code",
   "execution_count": 178,
   "metadata": {},
   "outputs": [
    {
     "data": {
      "text/plain": [
       "74.88641704527652"
      ]
     },
     "execution_count": 178,
     "metadata": {},
     "output_type": "execute_result"
    }
   ],
   "source": [
    "\n",
    "accuracy_score(y_testDTG_TF, y_predDTG_TF)*100"
   ]
  },
  {
   "cell_type": "code",
   "execution_count": null,
   "metadata": {},
   "outputs": [],
   "source": []
  },
  {
   "cell_type": "code",
   "execution_count": 179,
   "metadata": {},
   "outputs": [
    {
     "name": "stdout",
     "output_type": "stream",
     "text": [
      "[  0. 100.   0.]\n"
     ]
    }
   ],
   "source": [
    "\n",
    "print(precision_score(y_testDTE_TF, y_predDTE_TF, average=None)*100)"
   ]
  },
  {
   "cell_type": "code",
   "execution_count": 180,
   "metadata": {},
   "outputs": [
    {
     "name": "stdout",
     "output_type": "stream",
     "text": [
      "[  0.   0. 100.   0.]\n"
     ]
    }
   ],
   "source": [
    "\n",
    "print(precision_score(y_testDTG_TF, y_predDTG_TF, average=None)*100)"
   ]
  },
  {
   "cell_type": "code",
   "execution_count": null,
   "metadata": {},
   "outputs": [],
   "source": []
  },
  {
   "cell_type": "code",
   "execution_count": 161,
   "metadata": {},
   "outputs": [
    {
     "name": "stdout",
     "output_type": "stream",
     "text": [
      "              precision    recall  f1-score   support\n",
      "\n",
      "    accident       0.00      0.00      0.00         0\n",
      "   education       1.00      0.73      0.84      6383\n",
      "    politics       0.00      0.00      0.00         0\n",
      "\n",
      "   micro avg       0.73      0.73      0.73      6383\n",
      "   macro avg       0.33      0.24      0.28      6383\n",
      "weighted avg       1.00      0.73      0.84      6383\n",
      "\n"
     ]
    }
   ],
   "source": [
    "from sklearn.metrics import classification_report\n",
    "print(classification_report(y_testDTE_TF, y_predDTE_TF))"
   ]
  },
  {
   "cell_type": "code",
   "execution_count": 162,
   "metadata": {},
   "outputs": [
    {
     "name": "stdout",
     "output_type": "stream",
     "text": [
      "              precision    recall  f1-score   support\n",
      "\n",
      "    accident       0.00      0.00      0.00         0\n",
      "       crime       0.00      0.00      0.00         0\n",
      "   education       1.00      0.75      0.86      6383\n",
      "    politics       0.00      0.00      0.00         0\n",
      "\n",
      "   micro avg       0.75      0.75      0.75      6383\n",
      "   macro avg       0.25      0.19      0.21      6383\n",
      "weighted avg       1.00      0.75      0.86      6383\n",
      "\n"
     ]
    }
   ],
   "source": [
    "from sklearn.metrics import classification_report\n",
    "print(classification_report(y_testDTG_TF, y_predDTG_TF))"
   ]
  },
  {
   "cell_type": "code",
   "execution_count": null,
   "metadata": {},
   "outputs": [],
   "source": []
  },
  {
   "cell_type": "code",
   "execution_count": 163,
   "metadata": {},
   "outputs": [
    {
     "name": "stdout",
     "output_type": "stream",
     "text": [
      "[ 0.         84.09297258  0.        ]\n"
     ]
    }
   ],
   "source": [
    "from sklearn.metrics import f1_score\n",
    "print(f1_score(y_testDTE_TF, y_predDTE_TF, average=None)*100)"
   ]
  },
  {
   "cell_type": "code",
   "execution_count": 164,
   "metadata": {},
   "outputs": [
    {
     "name": "stdout",
     "output_type": "stream",
     "text": [
      "[ 0.          0.         85.64006092  0.        ]\n"
     ]
    }
   ],
   "source": [
    "from sklearn.metrics import f1_score\n",
    "print(f1_score(y_testDTG_TF, y_predDTG_TF, average=None)*100)"
   ]
  }
 ],
 "metadata": {
  "kernelspec": {
   "display_name": "Python 3",
   "language": "python",
   "name": "python3"
  },
  "language_info": {
   "codemirror_mode": {
    "name": "ipython",
    "version": 3
   },
   "file_extension": ".py",
   "mimetype": "text/x-python",
   "name": "python",
   "nbconvert_exporter": "python",
   "pygments_lexer": "ipython3",
   "version": "3.7.4"
  }
 },
 "nbformat": 4,
 "nbformat_minor": 2
}
